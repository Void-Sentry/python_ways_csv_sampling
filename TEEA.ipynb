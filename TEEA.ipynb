{
  "nbformat": 4,
  "nbformat_minor": 0,
  "metadata": {
    "colab": {
      "provenance": [],
      "collapsed_sections": [],
      "authorship_tag": "ABX9TyO+TdXCm0iW6pSwCYAMVTGb",
      "include_colab_link": true
    },
    "kernelspec": {
      "name": "python3",
      "display_name": "Python 3"
    },
    "language_info": {
      "name": "python"
    }
  },
  "cells": [
    {
      "cell_type": "markdown",
      "metadata": {
        "id": "view-in-github",
        "colab_type": "text"
      },
      "source": [
        "<a href=\"https://colab.research.google.com/github/Void-Sentry/python_ways_csv_sampling/blob/main/TEEA.ipynb\" target=\"_parent\"><img src=\"https://colab.research.google.com/assets/colab-badge.svg\" alt=\"Open In Colab\"/></a>"
      ]
    },
    {
      "cell_type": "markdown",
      "source": [
        "# Pacotes utilizados ao longo da amostragem"
      ],
      "metadata": {
        "id": "byw1zYQVgyEE"
      }
    },
    {
      "cell_type": "code",
      "source": [
        "import pandas as pd\n",
        "import random"
      ],
      "metadata": {
        "id": "KO4DmCvKLHiA"
      },
      "execution_count": 108,
      "outputs": []
    },
    {
      "cell_type": "markdown",
      "source": [
        "# Importar dataset"
      ],
      "metadata": {
        "id": "OayYO96ngtbj"
      }
    },
    {
      "cell_type": "code",
      "source": [
        "dataset = pd.read_csv('/content/esus-vepi.LeitoOcupacao_2022.csv')"
      ],
      "metadata": {
        "id": "epSFNGV9LlnP"
      },
      "execution_count": 109,
      "outputs": []
    },
    {
      "cell_type": "markdown",
      "source": [
        "# Amostra aleatória simples\n",
        "\n",
        "Dado um dataframe com linhas N, o extrato aleatório de amostragem X linhas aleatórias do dataframe, com X ≤ N. Python fornece uma função, nomeada para realizar amostragem aleatória.pandassample()\n",
        "\n",
        "O número de amostras a serem extraídas pode ser expresso de duas maneiras alternativas:\n",
        "\n",
        "especificar o número exato de linhas aleatórias para extrair\n",
        "especificar a porcentagem de linhas aleatórias para extrair. O percentual é expresso como um número entre 0 e 1."
      ],
      "metadata": {
        "id": "309IpHaNfeVc"
      }
    },
    {
      "cell_type": "code",
      "source": [
        "value = len(dataset.sample(random.randint(50, 100)))"
      ],
      "metadata": {
        "id": "umte7JNCRFnl"
      },
      "execution_count": 110,
      "outputs": []
    },
    {
      "cell_type": "markdown",
      "source": [
        "# Amostra sistemática\n",
        "\n",
        "A Amostragem Sistemática é definida como o tipo de Amostragem de Probabilidade onde um pesquisador pode pesquisar sobre um determinado dados direcionados a partir de um grande conjunto de dados. Os dados direcionados são escolhidos selecionando ponto de partida aleatório e a partir disso após determinado intervalo o próximo elemento é escolhido para a amostra. Neste, um pequeno subconjunto (amostra) é extraído de dados grandes."
      ],
      "metadata": {
        "id": "8mmX6vMHe1e8"
      }
    },
    {
      "cell_type": "code",
      "source": [
        "sys_sample = dataset.iloc[::1500]\n",
        "value = len(sys_sample)"
      ],
      "metadata": {
        "id": "0P8ADXJObP_q"
      },
      "execution_count": 90,
      "outputs": []
    },
    {
      "cell_type": "markdown",
      "source": [
        "# Amostra estratificada\n",
        "\n",
        "Stratified Sampling is a sampling technique used to obtain samples that best represent the population. It reduces bias in selecting samples by dividing the population into homogeneous subgroups called strata, and randomly sampling data from each stratum(singular form of strata). \n",
        "\n",
        "In statistics, stratified sampling is used when the mean values of each stratum will differ. In Machine learning, stratified sampling is commonly used to create test datasets to evaluate models especially when the dataset is significantly large and unbalanced. "
      ],
      "metadata": {
        "id": "JMSYo_owfT1U"
      }
    },
    {
      "cell_type": "code",
      "source": [
        "strat_sample = dataset.groupby('municipio', group_keys=False).apply(lambda x: x.sample(frac=0.6))\n",
        "value = len(strat_sample)"
      ],
      "metadata": {
        "id": "3aExBErubTiR"
      },
      "execution_count": 101,
      "outputs": []
    },
    {
      "cell_type": "markdown",
      "source": [
        "# Amostra conglomerada\n",
        "\n",
        "A amostragem conglomerada é um tipo de amostragem de probabilidade em que cada elemento da população é selecionado igualmente, utilizamos os subconjuntos da população como parte amostral e não os elementos individuais para amostragem.\n",
        "\n",
        "A população é dividida em subconjuntos ou subgrupos que são considerados clusters, e a partir do número de clusters, selecionamos o cluster individual para o próximo passo a ser realizado."
      ],
      "metadata": {
        "id": "NKa4lv5TeD49"
      }
    },
    {
      "cell_type": "code",
      "source": [
        "cluster_sample = dataset.sample(200).sort_values(by='municipio')\n",
        "value = len(cluster_sample)"
      ],
      "metadata": {
        "id": "fM0YtGt4bZNS"
      },
      "execution_count": 105,
      "outputs": []
    },
    {
      "cell_type": "markdown",
      "source": [
        "# Inicializar constantes"
      ],
      "metadata": {
        "id": "HjGziIzJgRXT"
      }
    },
    {
      "cell_type": "code",
      "source": [
        "Z = 2.58\n",
        "e = 0.05\n",
        "P = 0.5"
      ],
      "metadata": {
        "id": "6kL4d6VRY-dS"
      },
      "execution_count": 111,
      "outputs": []
    },
    {
      "cell_type": "markdown",
      "source": [
        "# Aplicar fórmula para o tamanho da população"
      ],
      "metadata": {
        "id": "NLCN1xUMgW8T"
      }
    },
    {
      "cell_type": "code",
      "source": [
        "part_1 = ((Z ** 2) * (P * (1 - P)) / (e ** 2))\n",
        "part_2 = 1 + (((Z ** 2) * (P * (1 - P))) / ((e ** 2) * value))\n",
        "sample_size = part_1 / part_2"
      ],
      "metadata": {
        "id": "im9Rnki6RaW0"
      },
      "execution_count": 112,
      "outputs": []
    },
    {
      "cell_type": "markdown",
      "source": [
        "# Exibir resultado do tamanho da população"
      ],
      "metadata": {
        "id": "8RLSrr8LglzT"
      }
    },
    {
      "cell_type": "code",
      "source": [
        "print(round(sample_size))"
      ],
      "metadata": {
        "colab": {
          "base_uri": "https://localhost:8080/"
        },
        "id": "nEN3i6WAWUsb",
        "outputId": "849ec1d1-b615-4544-b377-cb57caf37444"
      },
      "execution_count": 113,
      "outputs": [
        {
          "output_type": "stream",
          "name": "stdout",
          "text": [
            "64\n"
          ]
        }
      ]
    }
  ]
}